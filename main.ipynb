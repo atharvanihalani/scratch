{
 "cells": [
  {
   "cell_type": "code",
   "execution_count": 1,
   "id": "ec269cd2",
   "metadata": {},
   "outputs": [
    {
     "name": "stdout",
     "output_type": "stream",
     "text": [
      "Requirement already satisfied: torch in /usr/local/lib/python3.10/dist-packages (2.1.0+cu118)\n",
      "Requirement already satisfied: einops in /usr/local/lib/python3.10/dist-packages (0.8.1)\n",
      "Requirement already satisfied: numpy in /usr/local/lib/python3.10/dist-packages (1.24.1)\n",
      "Requirement already satisfied: transformer_lens==2.11.0 in /usr/local/lib/python3.10/dist-packages (2.11.0)\n",
      "Requirement already satisfied: accelerate>=0.23.0 in /usr/local/lib/python3.10/dist-packages (from transformer_lens==2.11.0) (1.7.0)\n",
      "Requirement already satisfied: beartype<0.15.0,>=0.14.1 in /usr/local/lib/python3.10/dist-packages (from transformer_lens==2.11.0) (0.14.1)\n",
      "Requirement already satisfied: better-abc<0.0.4,>=0.0.3 in /usr/local/lib/python3.10/dist-packages (from transformer_lens==2.11.0) (0.0.3)\n",
      "Requirement already satisfied: datasets>=2.7.1 in /usr/local/lib/python3.10/dist-packages (from transformer_lens==2.11.0) (3.6.0)\n",
      "Requirement already satisfied: fancy-einsum>=0.0.3 in /usr/local/lib/python3.10/dist-packages (from transformer_lens==2.11.0) (0.0.3)\n",
      "Requirement already satisfied: jaxtyping>=0.2.11 in /usr/local/lib/python3.10/dist-packages (from transformer_lens==2.11.0) (0.3.2)\n",
      "Requirement already satisfied: pandas>=1.1.5 in /usr/local/lib/python3.10/dist-packages (from transformer_lens==2.11.0) (2.3.0)\n",
      "Requirement already satisfied: rich>=12.6.0 in /usr/local/lib/python3.10/dist-packages (from transformer_lens==2.11.0) (14.0.0)\n",
      "Requirement already satisfied: sentencepiece in /usr/local/lib/python3.10/dist-packages (from transformer_lens==2.11.0) (0.2.0)\n",
      "Requirement already satisfied: tqdm>=4.64.1 in /usr/local/lib/python3.10/dist-packages (from transformer_lens==2.11.0) (4.67.1)\n",
      "Requirement already satisfied: transformers>=4.37.2 in /usr/local/lib/python3.10/dist-packages (from transformer_lens==2.11.0) (4.52.4)\n",
      "Requirement already satisfied: typeguard<5.0,>=4.2 in /usr/local/lib/python3.10/dist-packages (from transformer_lens==2.11.0) (4.4.4)\n",
      "Requirement already satisfied: typing-extensions in /usr/local/lib/python3.10/dist-packages (from transformer_lens==2.11.0) (4.14.0)\n",
      "Requirement already satisfied: wandb>=0.13.5 in /usr/local/lib/python3.10/dist-packages (from transformer_lens==2.11.0) (0.20.1)\n",
      "Requirement already satisfied: filelock in /usr/local/lib/python3.10/dist-packages (from torch) (3.9.0)\n",
      "Requirement already satisfied: sympy in /usr/local/lib/python3.10/dist-packages (from torch) (1.12)\n",
      "Requirement already satisfied: networkx in /usr/local/lib/python3.10/dist-packages (from torch) (3.0)\n",
      "Requirement already satisfied: jinja2 in /usr/local/lib/python3.10/dist-packages (from torch) (3.1.2)\n",
      "Requirement already satisfied: fsspec in /usr/local/lib/python3.10/dist-packages (from torch) (2025.3.0)\n",
      "Requirement already satisfied: triton==2.1.0 in /usr/local/lib/python3.10/dist-packages (from torch) (2.1.0)\n",
      "Requirement already satisfied: packaging>=20.0 in /usr/local/lib/python3.10/dist-packages (from accelerate>=0.23.0->transformer_lens==2.11.0) (23.2)\n",
      "Requirement already satisfied: psutil in /usr/local/lib/python3.10/dist-packages (from accelerate>=0.23.0->transformer_lens==2.11.0) (5.9.6)\n",
      "Requirement already satisfied: pyyaml in /usr/local/lib/python3.10/dist-packages (from accelerate>=0.23.0->transformer_lens==2.11.0) (6.0.1)\n",
      "Requirement already satisfied: huggingface-hub>=0.21.0 in /usr/local/lib/python3.10/dist-packages (from accelerate>=0.23.0->transformer_lens==2.11.0) (0.33.0)\n",
      "Requirement already satisfied: safetensors>=0.4.3 in /usr/local/lib/python3.10/dist-packages (from accelerate>=0.23.0->transformer_lens==2.11.0) (0.5.3)\n",
      "Requirement already satisfied: pyarrow>=15.0.0 in /usr/local/lib/python3.10/dist-packages (from datasets>=2.7.1->transformer_lens==2.11.0) (20.0.0)\n",
      "Requirement already satisfied: dill<0.3.9,>=0.3.0 in /usr/local/lib/python3.10/dist-packages (from datasets>=2.7.1->transformer_lens==2.11.0) (0.3.8)\n",
      "Requirement already satisfied: requests>=2.32.2 in /usr/local/lib/python3.10/dist-packages (from datasets>=2.7.1->transformer_lens==2.11.0) (2.32.4)\n",
      "Requirement already satisfied: xxhash in /usr/local/lib/python3.10/dist-packages (from datasets>=2.7.1->transformer_lens==2.11.0) (3.5.0)\n",
      "Requirement already satisfied: multiprocess<0.70.17 in /usr/local/lib/python3.10/dist-packages (from datasets>=2.7.1->transformer_lens==2.11.0) (0.70.16)\n",
      "Requirement already satisfied: wadler-lindig>=0.1.3 in /usr/local/lib/python3.10/dist-packages (from jaxtyping>=0.2.11->transformer_lens==2.11.0) (0.1.7)\n",
      "Requirement already satisfied: python-dateutil>=2.8.2 in /usr/local/lib/python3.10/dist-packages (from pandas>=1.1.5->transformer_lens==2.11.0) (2.8.2)\n",
      "Requirement already satisfied: pytz>=2020.1 in /usr/local/lib/python3.10/dist-packages (from pandas>=1.1.5->transformer_lens==2.11.0) (2025.2)\n",
      "Requirement already satisfied: tzdata>=2022.7 in /usr/local/lib/python3.10/dist-packages (from pandas>=1.1.5->transformer_lens==2.11.0) (2025.2)\n",
      "Requirement already satisfied: markdown-it-py>=2.2.0 in /usr/local/lib/python3.10/dist-packages (from rich>=12.6.0->transformer_lens==2.11.0) (3.0.0)\n",
      "Requirement already satisfied: pygments<3.0.0,>=2.13.0 in /usr/local/lib/python3.10/dist-packages (from rich>=12.6.0->transformer_lens==2.11.0) (2.16.1)\n",
      "Requirement already satisfied: regex!=2019.12.17 in /usr/local/lib/python3.10/dist-packages (from transformers>=4.37.2->transformer_lens==2.11.0) (2024.11.6)\n",
      "Requirement already satisfied: tokenizers<0.22,>=0.21 in /usr/local/lib/python3.10/dist-packages (from transformers>=4.37.2->transformer_lens==2.11.0) (0.21.1)\n",
      "Requirement already satisfied: click!=8.0.0,>=7.1 in /usr/local/lib/python3.10/dist-packages (from wandb>=0.13.5->transformer_lens==2.11.0) (8.2.1)\n",
      "Requirement already satisfied: gitpython!=3.1.29,>=1.0.0 in /usr/local/lib/python3.10/dist-packages (from wandb>=0.13.5->transformer_lens==2.11.0) (3.1.44)\n",
      "Requirement already satisfied: platformdirs in /usr/local/lib/python3.10/dist-packages (from wandb>=0.13.5->transformer_lens==2.11.0) (3.11.0)\n",
      "Requirement already satisfied: protobuf!=4.21.0,!=5.28.0,<7,>=3.19.0 in /usr/local/lib/python3.10/dist-packages (from wandb>=0.13.5->transformer_lens==2.11.0) (6.31.1)\n",
      "Requirement already satisfied: pydantic<3 in /usr/local/lib/python3.10/dist-packages (from wandb>=0.13.5->transformer_lens==2.11.0) (2.11.7)\n",
      "Requirement already satisfied: sentry-sdk>=2.0.0 in /usr/local/lib/python3.10/dist-packages (from wandb>=0.13.5->transformer_lens==2.11.0) (2.30.0)\n",
      "Requirement already satisfied: setproctitle in /usr/local/lib/python3.10/dist-packages (from wandb>=0.13.5->transformer_lens==2.11.0) (1.3.6)\n",
      "Requirement already satisfied: MarkupSafe>=2.0 in /usr/local/lib/python3.10/dist-packages (from jinja2->torch) (2.1.2)\n",
      "Requirement already satisfied: mpmath>=0.19 in /usr/local/lib/python3.10/dist-packages (from sympy->torch) (1.3.0)\n",
      "Requirement already satisfied: aiohttp!=4.0.0a0,!=4.0.0a1 in /usr/local/lib/python3.10/dist-packages (from fsspec[http]<=2025.3.0,>=2023.1.0->datasets>=2.7.1->transformer_lens==2.11.0) (3.12.13)\n",
      "Requirement already satisfied: gitdb<5,>=4.0.1 in /usr/local/lib/python3.10/dist-packages (from gitpython!=3.1.29,>=1.0.0->wandb>=0.13.5->transformer_lens==2.11.0) (4.0.12)\n",
      "Requirement already satisfied: hf-xet<2.0.0,>=1.1.2 in /usr/local/lib/python3.10/dist-packages (from huggingface-hub>=0.21.0->accelerate>=0.23.0->transformer_lens==2.11.0) (1.1.4)\n",
      "Requirement already satisfied: mdurl~=0.1 in /usr/local/lib/python3.10/dist-packages (from markdown-it-py>=2.2.0->rich>=12.6.0->transformer_lens==2.11.0) (0.1.2)\n",
      "Requirement already satisfied: annotated-types>=0.6.0 in /usr/local/lib/python3.10/dist-packages (from pydantic<3->wandb>=0.13.5->transformer_lens==2.11.0) (0.7.0)\n",
      "Requirement already satisfied: pydantic-core==2.33.2 in /usr/local/lib/python3.10/dist-packages (from pydantic<3->wandb>=0.13.5->transformer_lens==2.11.0) (2.33.2)\n",
      "Requirement already satisfied: typing-inspection>=0.4.0 in /usr/local/lib/python3.10/dist-packages (from pydantic<3->wandb>=0.13.5->transformer_lens==2.11.0) (0.4.1)\n",
      "Requirement already satisfied: six>=1.5 in /usr/lib/python3/dist-packages (from python-dateutil>=2.8.2->pandas>=1.1.5->transformer_lens==2.11.0) (1.16.0)\n",
      "Requirement already satisfied: charset_normalizer<4,>=2 in /usr/local/lib/python3.10/dist-packages (from requests>=2.32.2->datasets>=2.7.1->transformer_lens==2.11.0) (2.1.1)\n",
      "Requirement already satisfied: idna<4,>=2.5 in /usr/local/lib/python3.10/dist-packages (from requests>=2.32.2->datasets>=2.7.1->transformer_lens==2.11.0) (3.4)\n",
      "Requirement already satisfied: urllib3<3,>=1.21.1 in /usr/local/lib/python3.10/dist-packages (from requests>=2.32.2->datasets>=2.7.1->transformer_lens==2.11.0) (1.26.13)\n",
      "Requirement already satisfied: certifi>=2017.4.17 in /usr/local/lib/python3.10/dist-packages (from requests>=2.32.2->datasets>=2.7.1->transformer_lens==2.11.0) (2022.12.7)\n",
      "Requirement already satisfied: aiohappyeyeballs>=2.5.0 in /usr/local/lib/python3.10/dist-packages (from aiohttp!=4.0.0a0,!=4.0.0a1->fsspec[http]<=2025.3.0,>=2023.1.0->datasets>=2.7.1->transformer_lens==2.11.0) (2.6.1)\n",
      "Requirement already satisfied: aiosignal>=1.1.2 in /usr/local/lib/python3.10/dist-packages (from aiohttp!=4.0.0a0,!=4.0.0a1->fsspec[http]<=2025.3.0,>=2023.1.0->datasets>=2.7.1->transformer_lens==2.11.0) (1.3.2)\n",
      "Requirement already satisfied: async-timeout<6.0,>=4.0 in /usr/local/lib/python3.10/dist-packages (from aiohttp!=4.0.0a0,!=4.0.0a1->fsspec[http]<=2025.3.0,>=2023.1.0->datasets>=2.7.1->transformer_lens==2.11.0) (5.0.1)\n",
      "Requirement already satisfied: attrs>=17.3.0 in /usr/local/lib/python3.10/dist-packages (from aiohttp!=4.0.0a0,!=4.0.0a1->fsspec[http]<=2025.3.0,>=2023.1.0->datasets>=2.7.1->transformer_lens==2.11.0) (23.1.0)\n",
      "Requirement already satisfied: frozenlist>=1.1.1 in /usr/local/lib/python3.10/dist-packages (from aiohttp!=4.0.0a0,!=4.0.0a1->fsspec[http]<=2025.3.0,>=2023.1.0->datasets>=2.7.1->transformer_lens==2.11.0) (1.7.0)\n",
      "Requirement already satisfied: multidict<7.0,>=4.5 in /usr/local/lib/python3.10/dist-packages (from aiohttp!=4.0.0a0,!=4.0.0a1->fsspec[http]<=2025.3.0,>=2023.1.0->datasets>=2.7.1->transformer_lens==2.11.0) (6.5.0)\n",
      "Requirement already satisfied: propcache>=0.2.0 in /usr/local/lib/python3.10/dist-packages (from aiohttp!=4.0.0a0,!=4.0.0a1->fsspec[http]<=2025.3.0,>=2023.1.0->datasets>=2.7.1->transformer_lens==2.11.0) (0.3.2)\n",
      "Requirement already satisfied: yarl<2.0,>=1.17.0 in /usr/local/lib/python3.10/dist-packages (from aiohttp!=4.0.0a0,!=4.0.0a1->fsspec[http]<=2025.3.0,>=2023.1.0->datasets>=2.7.1->transformer_lens==2.11.0) (1.20.1)\n",
      "Requirement already satisfied: smmap<6,>=3.0.1 in /usr/local/lib/python3.10/dist-packages (from gitdb<5,>=4.0.1->gitpython!=3.1.29,>=1.0.0->wandb>=0.13.5->transformer_lens==2.11.0) (5.0.2)\n",
      "\u001b[33mWARNING: Running pip as the 'root' user can result in broken permissions and conflicting behaviour with the system package manager. It is recommended to use a virtual environment instead: https://pip.pypa.io/warnings/venv\u001b[0m\u001b[33m\n",
      "\u001b[0m\n",
      "\u001b[1m[\u001b[0m\u001b[34;49mnotice\u001b[0m\u001b[1;39;49m]\u001b[0m\u001b[39;49m A new release of pip is available: \u001b[0m\u001b[31;49m23.3.1\u001b[0m\u001b[39;49m -> \u001b[0m\u001b[32;49m25.1.1\u001b[0m\n",
      "\u001b[1m[\u001b[0m\u001b[34;49mnotice\u001b[0m\u001b[1;39;49m]\u001b[0m\u001b[39;49m To update, run: \u001b[0m\u001b[32;49mpython -m pip install --upgrade pip\u001b[0m\n"
     ]
    }
   ],
   "source": [
    "!pip install torch einops numpy transformer_lens==2.11.0 "
   ]
  },
  {
   "cell_type": "code",
   "execution_count": 48,
   "id": "56bcd892",
   "metadata": {},
   "outputs": [],
   "source": [
    "import torch as t\n",
    "import torch.nn as nn\n",
    "import einops\n",
    "import numpy as np\n",
    "from transformer_lens import (\n",
    "    ActivationCache,\n",
    "    FactoredMatrix,\n",
    "    HookedTransformer,\n",
    "    HookedTransformerConfig,\n",
    "    utils,\n",
    ")\n",
    "from transformer_lens.hook_points import HookPoint\n",
    "import tqdm\n",
    "import csv\n",
    "import functools\n",
    "\n",
    "device = 'cuda'"
   ]
  },
  {
   "cell_type": "code",
   "execution_count": 3,
   "id": "e0f5606d",
   "metadata": {},
   "outputs": [
    {
     "name": "stdout",
     "output_type": "stream",
     "text": [
      "Loaded pretrained model gpt2 into HookedTransformer\n",
      "Moving model to device:  cuda\n"
     ]
    }
   ],
   "source": [
    "gpt2_small = HookedTransformer.from_pretrained('gpt2').to(device)\n",
    "# gpt2_xl = HookedTransformer.from_pretrained('gpt2-XL').to(device)"
   ]
  },
  {
   "cell_type": "markdown",
   "id": "8a69f97f",
   "metadata": {},
   "source": [
    "### CAA [Sentences]"
   ]
  },
  {
   "cell_type": "code",
   "execution_count": 11,
   "id": "a5d769b6",
   "metadata": {},
   "outputs": [],
   "source": [
    "sentences = []\n",
    "with open('sentences.csv') as csvfile:\n",
    "    reader = csv.reader(csvfile)\n",
    "    next(reader)\n",
    "    for row in reader:\n",
    "        sentences.append(tuple(row))"
   ]
  },
  {
   "cell_type": "code",
   "execution_count": 27,
   "id": "c226ede2",
   "metadata": {},
   "outputs": [
    {
     "name": "stdout",
     "output_type": "stream",
     "text": [
      "['blocks.0.hook_resid_pre', 'blocks.0.hook_resid_mid', 'blocks.1.hook_resid_pre', 'blocks.1.hook_resid_mid', 'blocks.2.hook_resid_pre', 'blocks.2.hook_resid_mid', 'blocks.3.hook_resid_pre', 'blocks.3.hook_resid_mid', 'blocks.4.hook_resid_pre', 'blocks.4.hook_resid_mid', 'blocks.5.hook_resid_pre', 'blocks.5.hook_resid_mid', 'blocks.6.hook_resid_pre', 'blocks.6.hook_resid_mid', 'blocks.7.hook_resid_pre', 'blocks.7.hook_resid_mid', 'blocks.8.hook_resid_pre', 'blocks.8.hook_resid_mid', 'blocks.9.hook_resid_pre', 'blocks.9.hook_resid_mid', 'blocks.10.hook_resid_pre', 'blocks.10.hook_resid_mid', 'blocks.11.hook_resid_pre', 'blocks.11.hook_resid_mid']\n"
     ]
    }
   ],
   "source": [
    "test_cache = gpt2_small.run_with_cache('')[1]\n",
    "keys = []\n",
    "for key in test_cache:\n",
    "    if ('resid_pre' in key) or ('resid_mid' in key):\n",
    "        keys.append(key)\n",
    "print(keys)\n"
   ]
  },
  {
   "cell_type": "code",
   "execution_count": 51,
   "id": "a9e0f19b",
   "metadata": {},
   "outputs": [],
   "source": [
    "accum_steering_sentences = t.zeros(len(keys), gpt2_small.cfg.d_model).to(device)\n",
    "\n",
    "for (english, spanish) in sentences:\n",
    "    cache_eng = gpt2_small.run_with_cache(english)[1]\n",
    "    cache_spa = gpt2_small.run_with_cache(spanish)[1]\n",
    "\n",
    "    for idx, key in enumerate(keys):\n",
    "        vec_eng = cache_eng[key].squeeze()[-1] #ie. vector at residual-stream-of-last-token\n",
    "        vec_spa = cache_spa[key].squeeze()[-1]\n",
    "        steering = vec_spa - vec_eng\n",
    "        accum_steering_sentences[idx] += steering"
   ]
  },
  {
   "cell_type": "code",
   "execution_count": null,
   "id": "426a310e",
   "metadata": {},
   "outputs": [
    {
     "name": "stdout",
     "output_type": "stream",
     "text": [
      " water\n",
      " of\n",
      " of\n",
      " of\n",
      " water\n",
      " water\n",
      " of\n",
      " of\n",
      " of\n",
      " of\n",
      " of\n",
      " of\n",
      " of\n",
      " of\n",
      " of\n",
      " of\n",
      " of\n",
      " s\n",
      " s\n",
      " p\n",
      " su\n",
      " su\n",
      " su\n",
      " of\n"
     ]
    }
   ],
   "source": [
    "steering_vecs_sentences = accum_steering_sentences / 50\n",
    "\n",
    "def sentences_hook(res_vector, hook, steering):\n",
    "    return res_vector + steering\n",
    "\n",
    "for idx, key in enumerate(keys):\n",
    "    partial_hook = functools.partial(sentences_hook, steering=steering_vecs_sentences[idx])\n",
    "    logits = gpt2_small.run_with_hooks(\n",
    "        'The horse drank some',\n",
    "        return_type = 'logits',\n",
    "        fwd_hooks = [(key, partial_hook)],\n",
    "    )\n",
    "    out = logits.squeeze().argmax(-1)[-1]\n",
    "    print(gpt2_small.to_string(out))\n"
   ]
  },
  {
   "cell_type": "markdown",
   "id": "2d010cca",
   "metadata": {},
   "source": [
    "### CAA [Words]"
   ]
  },
  {
   "cell_type": "code",
   "execution_count": 59,
   "id": "32bb79c1",
   "metadata": {},
   "outputs": [],
   "source": [
    "words = []\n",
    "with open('words.csv') as csvfile:\n",
    "    reader = csv.reader(csvfile)\n",
    "    next(reader)\n",
    "    for row in reader:\n",
    "        words.append(tuple(row))"
   ]
  },
  {
   "cell_type": "code",
   "execution_count": 60,
   "id": "671dd100",
   "metadata": {},
   "outputs": [],
   "source": [
    "accum_steering_words = t.zeros_like(accum_steering_sentences)\n",
    "\n",
    "for (english, spanish) in words:\n",
    "    cache_eng = gpt2_small.run_with_cache(english)[1]\n",
    "    cache_spa = gpt2_small.run_with_cache(spanish)[1]\n",
    "\n",
    "    for idx, key in enumerate(keys):\n",
    "        vec_eng = cache_eng[key].squeeze()[-1]\n",
    "        vec_spa = cache_spa[key].squeeze()[-1]\n",
    "        steering = vec_spa - vec_eng\n",
    "        accum_steering_words[idx] += steering"
   ]
  },
  {
   "cell_type": "code",
   "execution_count": 61,
   "id": "fb34f72d",
   "metadata": {},
   "outputs": [
    {
     "name": "stdout",
     "output_type": "stream",
     "text": [
      " of\n",
      " of\n",
      " of\n",
      " of\n",
      " of\n",
      " of\n",
      " of\n",
      " of\n",
      " of\n",
      " of\n",
      " of\n",
      " of\n",
      " of\n",
      " of\n",
      " of\n",
      " of\n",
      " of\n",
      " water\n",
      " water\n",
      " water\n",
      " of\n",
      " of\n",
      " of\n",
      " of\n"
     ]
    }
   ],
   "source": [
    "steering_vecs_words = accum_steering_words / 50\n",
    "\n",
    "def words_hook(res_vector, hook, steering):\n",
    "    return res_vector + steering\n",
    "\n",
    "for idx, key in enumerate(keys):\n",
    "    partial_hook = functools.partial(words_hook, steering=steering_vecs_words[idx])\n",
    "    logits = gpt2_small.run_with_hooks(\n",
    "        'The horse drank some',\n",
    "        return_type = 'logits',\n",
    "        fwd_hooks = [(key, partial_hook)],\n",
    "    )\n",
    "    out = logits.squeeze().argmax(-1)[-1]\n",
    "    print(gpt2_small.to_string(out))\n"
   ]
  },
  {
   "cell_type": "markdown",
   "id": "74e79b38",
   "metadata": {},
   "source": [
    "### CAA [Paragraph]"
   ]
  },
  {
   "cell_type": "markdown",
   "id": "f7b93e49",
   "metadata": {},
   "source": [
    "### Scratch"
   ]
  },
  {
   "cell_type": "code",
   "execution_count": 13,
   "id": "c1158938",
   "metadata": {},
   "outputs": [
    {
     "name": "stdout",
     "output_type": "stream",
     "text": [
      "ana\n",
      "ana\n",
      ",\n",
      ",\n",
      ",\n",
      ",\n",
      " of\n",
      " of\n",
      " of\n",
      ",\n",
      ",\n",
      ",\n",
      " of\n",
      ",\n",
      ".\n",
      " de\n",
      ".\n",
      ".\n",
      " de\n",
      " de\n",
      " de\n",
      " de\n",
      " de\n",
      " de\n"
     ]
    }
   ],
   "source": [
    "def my_hook(res_vector, hook):\n",
    "    return res_vector + steering\n",
    "\n",
    "for layer in range(gpt2_small.cfg.n_layers):\n",
    "    for pos in ['resid_pre', 'resid_mid']:\n",
    "        vec1 = cache_1[pos, layer].squeeze()[-1]\n",
    "        vec2 = cache_2[pos, layer].squeeze()[-1]\n",
    "        steering = vec2 - vec1\n",
    "\n",
    "        logits = gpt2_small.run_with_hooks(\n",
    "            'The horse drank some', \n",
    "            return_type='logits',\n",
    "            fwd_hooks=[\n",
    "                (f'blocks.{layer}.hook_{pos}', my_hook)\n",
    "            ]\n",
    "        )\n",
    "\n",
    "        out = logits.squeeze().argmax(dim=-1)[-1]\n",
    "        if out != 7050:\n",
    "            print(gpt2_small.to_string(out))\n",
    "\n",
    "        \n"
   ]
  }
 ],
 "metadata": {
  "kernelspec": {
   "display_name": "Python 3",
   "language": "python",
   "name": "python3"
  },
  "language_info": {
   "codemirror_mode": {
    "name": "ipython",
    "version": 3
   },
   "file_extension": ".py",
   "mimetype": "text/x-python",
   "name": "python",
   "nbconvert_exporter": "python",
   "pygments_lexer": "ipython3",
   "version": "3.10.12"
  }
 },
 "nbformat": 4,
 "nbformat_minor": 5
}
